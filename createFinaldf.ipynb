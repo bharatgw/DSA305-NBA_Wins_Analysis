{
 "cells": [
  {
   "cell_type": "code",
   "execution_count": 1,
   "metadata": {},
   "outputs": [],
   "source": [
    "import pandas as pd"
   ]
  },
  {
   "cell_type": "code",
   "execution_count": 2,
   "metadata": {},
   "outputs": [],
   "source": [
    "# Player df\n",
    "playerdf = pd.read_csv(\"./data/playerTradStats.csv\")\n",
    "\n",
    "acronyms = pd.read_csv(\"./data/abbreviations.csv\", sep = \"\\t\").rename({\"Acronym\": \"TEAM\"}, axis = 1)\n",
    "\n",
    "name_dict = {\"CHH\":\"CHA\", \"NOH\": \"NOP\", \"NJN\": \"BKN\", \"NOK\": \"NOP\", \"SEA\": \"OKC\", \"VAN\": \"MEM\"}\n",
    "def rename_teams(old_name, dict):\n",
    "    if old_name in name_dict.keys():\n",
    "        return name_dict[old_name]\n",
    "    else:\n",
    "        return old_name\n",
    "\n",
    "playerdf.TEAM = playerdf.TEAM.apply(lambda x: rename_teams(x, name_dict))\n",
    "\n",
    "# NBA statistics df\n",
    "teamAdvdf = pd.read_csv(\"./data/teamadvancedStats.csv\").set_index([\"TEAM\", \"Season\"])\n",
    "teamOppdf = pd.read_csv(\"./data/teamOpponentStats.csv\").set_index([\"TEAM\", \"Season\"])\n",
    "teamTraddf = pd.read_csv(\"./data/teamTradStats.csv\").set_index([\"TEAM\", \"Season\"])\n",
    "\n",
    "# Age df\n",
    "teamAgedf = playerdf[[\"TEAM\", \"Season\", \"AGE\"]].groupby([\"Season\", \"TEAM\"]).mean()\n",
    "teamAgedf = pd.merge(teamAgedf.reset_index(), acronyms).drop(\"TEAM\", axis = 1).rename({\"Team\": \"TEAM\", \"AGE\": \"AVG_PLAYER_AGE\"}, axis = 1).set_index([\"TEAM\", \"Season\"])\n",
    "\n",
    "del playerdf"
   ]
  },
  {
   "cell_type": "code",
   "execution_count": 3,
   "metadata": {},
   "outputs": [],
   "source": [
    "# Awards variables\n",
    "teamAwardsdf = pd.read_csv(\"./data/awards.csv\").drop([\"Player\", \"Position\"], axis = 1).rename({\"Team\": \"TEAM\"}, axis = 1).sort_values([\"TEAM\", \"Season\"])\n",
    "\n",
    "teamAwardsdf[\"Season\"] = teamAwardsdf.Season.str.split(\"-\").str[0]\n",
    "teamAwardsdf.Season = pd.to_numeric(teamAwardsdf.Season)\n",
    "teamAwardsdf = teamAwardsdf[teamAwardsdf.Season.between(1996, 2022)]\n",
    "name_dict = {\"Charlotte Bobcats\":\"Charlotte Hornets\", \"LA Clippers\": \"Los Angeles Clippers\", \"New Jersey Nets\": \"Brooklyn Nets\", \"New Orleans Hornets\": \"New Orleans Pelicans\", \"New Orleans/Oklahoma City Hornets\": \"New Orleans Pelicans\", \"Seattle SuperSonics\": \"Oklahoma City Thunder\", \"Vancouver Grizzlies\": \"Memphis Grizzlies\", \"Washington Bullets\": \"Washington Wizards\", \"Dallas Mavericks)\" : \"Dallas Mavericks\", \"MIami Heat\": \"Miami Heat\", \"Seattle SuperSonic\": \"Oklahoma City Thunder\", \"Atlanta Hawks/Philadelphia 76ers\" : \"Atlanta Hawks\"}\n",
    "teamAwardsdf.TEAM = teamAwardsdf.TEAM.apply(lambda x: rename_teams(x, name_dict))\n",
    "teamAwardsdf.TEAM = pd.Categorical(teamAwardsdf.TEAM.str.strip())\n",
    "\n",
    "no_of_awards_won = teamAwardsdf.groupby([\"TEAM\", \"Season\"],  observed=False).count().rename({\"Award\": \"N_Awards_Won\"}, axis = 1)\n",
    "no_of_awards_won[\"awardDummy\"] = (no_of_awards_won != 0).values.flatten().astype(int)"
   ]
  },
  {
   "cell_type": "code",
   "execution_count": 35,
   "metadata": {},
   "outputs": [],
   "source": [
    "# Coach df\n",
    "coaches = pd.read_csv(\"./data/coachdf.csv\").iloc[:,1:]\n",
    "\n",
    "name_dict = {\"CHH\":\"CHA\", \"NOH\": \"NOP\", \"NJN\": \"BKN\", \"NOK\": \"NOP\", \"SEA\": \"OKC\", \"VAN\": \"MEM\", \"PHO\": \"PHX\", \"WSB\": \"WAS\", \"BRK\": \"BKN\", \"CHO\": \"CHA\"}\n",
    "coaches.TEAM = coaches.TEAM.apply(lambda x: rename_teams(x, name_dict))\n",
    "coaches = pd.merge(coaches, acronyms, on = \"TEAM\").drop(\"TEAM\", axis = 1).rename({\"Team\": \"TEAM\"}, axis = 1).set_index([\"TEAM\", \"Season\"])\n",
    "\n",
    "coachMaxGamesdf = coaches.reset_index().groupby([\"TEAM\", \"Season\"])[\"RS_G_Current\"].max().reset_index()\n",
    "coaches = pd.merge(coaches, coachMaxGamesdf, on = [\"TEAM\", \"Season\", \"RS_G_Current\"]).set_index([\"TEAM\", \"Season\"])\n",
    "\n",
    "coaches[\"Perc_Seasons_TEAM\"] = coaches.N_Seasons_TEAM/coaches.N_Seasons_Overall\n",
    "coaches = coaches.reset_index().drop_duplicates([\"TEAM\", \"Season\"]).set_index([\"TEAM\", \"Season\"])\n",
    "\n",
    "coaches = coaches[[\"Coach\", \"Perc_Seasons_TEAM\", \"N_Seasons_Overall\", \"RS_W_Perc_Overall\", \"P_W_Perc\"]]\n",
    "coaches = coaches.rename({i: f\"Coach_{i}\" for i in coaches.columns[1:]}, axis = 1)"
   ]
  },
  {
   "cell_type": "code",
   "execution_count": 36,
   "metadata": {},
   "outputs": [],
   "source": [
    "# Join the NBA statistics df\n",
    "variables_of_interest = [\"W\", \"FGA\",  \"3PA\", \"FGM\", \"AST\", \"TOV\", \"STL\", \"PF\", \"PFD\", \"OPP_FGA\", \"OPP_3PA\", \"OPP_FGM\", \"OPP_AST\", \"OPP_TOV\", \"OPP_STL\"]\n",
    "\n",
    "advCols = teamAdvdf.columns.difference(teamTraddf.columns)\n",
    "finaldf = teamTraddf.join(teamAdvdf[advCols])\n",
    "oppCols = teamOppdf.columns.difference(finaldf.columns)\n",
    "\n",
    "finaldf = finaldf.join(teamOppdf[oppCols])\n",
    "finaldf.columns = finaldf.columns.str.replace(\"\\n\", \"_\")\n",
    "finaldf = finaldf[variables_of_interest].reset_index()\n",
    "\n",
    "name_dict = {\"Charlotte Bobcats\":\"Charlotte Hornets\", \"LA Clippers\": \"Los Angeles Clippers\", \"New Jersey Nets\": \"Brooklyn Nets\", \"New Orleans Hornets\": \"New Orleans Pelicans\", \"New Orleans/Oklahoma City Hornets\": \"New Orleans Pelicans\", \"Seattle SuperSonics\": \"Oklahoma City Thunder\", \"Vancouver Grizzlies\": \"Memphis Grizzlies\", \"Washington Bullets\": \"Washington Wizards\"}\n",
    "finaldf.TEAM = finaldf.TEAM.apply(lambda x: rename_teams(x, name_dict))\n",
    "\n",
    "finaldf.TEAM = pd.Categorical(finaldf.TEAM)\n",
    "finaldf.Season = pd.to_numeric(finaldf.Season)\n",
    "finaldf = finaldf[finaldf.Season < 2023]\n",
    "finaldf = finaldf.set_index([\"TEAM\", \"Season\"]).sort_index()\n",
    "\n",
    "finaldf = finaldf.join(teamAgedf)\n",
    "finaldf = finaldf.join(no_of_awards_won)\n",
    "finaldf = finaldf.join(coaches)\n",
    "\n",
    "# finaldf.POSS = pd.to_numeric(finaldf.POSS.str.replace(\",\", \"\"), errors = \"coerce\")\n",
    "finaldf[\"2PA\"] = finaldf.FGA - finaldf[\"3PA\"]\n",
    "finaldf[\"OPP_2PA\"] = finaldf.OPP_FGA - finaldf[\"OPP_3PA\"]"
   ]
  },
  {
   "cell_type": "markdown",
   "metadata": {},
   "source": [
    "Dependent: W\n",
    "\n",
    "Playstyle:\n",
    "* 3PA/FGA\n",
    "* 2PA/FGA\n",
    "* AST/FGM\n",
    "* STL/OPP_TOV\n",
    "* PF - PFD\n",
    "\n",
    "Controls:\n",
    "* OPP_3PA/OPP_FGA\n",
    "* OPP_2PA/OPP_FGA\n",
    "* OPP_AST/AST_FGM\n",
    "* OPP_STL/TOV\n",
    "* AVG_PLAYER_AGE\n",
    "* L(N_Awards_Won)\n",
    "* Coach\n",
    "* Coach_N_Seasons_TEAM/Coach_N_Seasons_Overall\n",
    "* Coach_N_Seasons_Overall\n",
    "* L(RS_W_Perc_Overall)\n",
    "* L(P_W_Perc)"
   ]
  },
  {
   "cell_type": "code",
   "execution_count": 37,
   "metadata": {},
   "outputs": [],
   "source": [
    "finaldf[\"Perc_3PA\"] = finaldf[\"3PA\"]/finaldf.FGA\n",
    "finaldf[\"Perc_2PA\"] = finaldf[\"2PA\"]/finaldf.FGA\n",
    "finaldf[\"Perc_AST\"] = finaldf[\"AST\"]/finaldf.FGM\n",
    "finaldf[\"Perc_STL\"] = finaldf[\"STL\"]/finaldf.OPP_TOV\n",
    "finaldf[\"PFminusPFD\"] = finaldf[\"PF\"] - finaldf[\"PFD\"]\n",
    "\n",
    "finaldf[\"OPP_Perc_3PA\"] = finaldf.OPP_3PA/finaldf.OPP_FGA\n",
    "# finaldf[\"OPP_Perc_2PA\"] = finaldf[\"OPP_2PA\"]/finaldf.OPP_FGA\n",
    "finaldf[\"OPP_Perc_AST\"] = finaldf[\"OPP_AST\"]/finaldf.OPP_FGM\n",
    "finaldf[\"OPP_Perc_STL\"] = finaldf[\"OPP_STL\"]/finaldf.TOV\n",
    "\n",
    "finaldf[\"L1_N_Awards_Won\"] = finaldf.groupby(\"TEAM\", observed = False)[\"N_Awards_Won\"].shift()\n",
    "finaldf[\"L1_Coach_RS_W_Perc_Overall\"] = finaldf.groupby(\"TEAM\", observed = False)[\"Coach_RS_W_Perc_Overall\"].shift()\n",
    "finaldf[\"L1_Coach_P_W_Perc\"] = finaldf.groupby(\"TEAM\", observed = False)[\"Coach_P_W_Perc\"].shift()"
   ]
  },
  {
   "cell_type": "code",
   "execution_count": 38,
   "metadata": {},
   "outputs": [],
   "source": [
    "finaldf = finaldf[[\"W\", \"Perc_3PA\", \"Perc_2PA\", \"Perc_AST\", \"Perc_STL\", \"PFminusPFD\", \"OPP_Perc_3PA\", \"OPP_Perc_AST\", \"OPP_Perc_STL\", \"L1_N_Awards_Won\", \"L1_Coach_RS_W_Perc_Overall\", \"L1_Coach_P_W_Perc\", \"AVG_PLAYER_AGE\", \"Coach\", \"Coach_N_Seasons_Overall\", \"Coach_Perc_Seasons_TEAM\"]]\n",
    "finaldf.to_csv(\"./data/finaldf.csv\")"
   ]
  }
 ],
 "metadata": {
  "kernelspec": {
   "display_name": "py311",
   "language": "python",
   "name": "python3"
  },
  "language_info": {
   "codemirror_mode": {
    "name": "ipython",
    "version": 3
   },
   "file_extension": ".py",
   "mimetype": "text/x-python",
   "name": "python",
   "nbconvert_exporter": "python",
   "pygments_lexer": "ipython3",
   "version": "3.11.5"
  }
 },
 "nbformat": 4,
 "nbformat_minor": 2
}
