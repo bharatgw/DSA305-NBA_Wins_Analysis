{
 "cells": [
  {
   "cell_type": "code",
   "execution_count": 148,
   "metadata": {},
   "outputs": [],
   "source": [
    "import pandas as pd"
   ]
  },
  {
   "cell_type": "code",
   "execution_count": 149,
   "metadata": {},
   "outputs": [],
   "source": [
    "# Player df\n",
    "playerdf = pd.read_csv(\"./data/playerTradStats.csv\")\n",
    "\n",
    "acronyms = pd.read_csv(\"./data/abbreviations.csv\", sep = \"\\t\").rename({\"Acronym\": \"TEAM\"}, axis = 1)\n",
    "\n",
    "name_dict = {\"CHH\":\"CHA\", \"NOH\": \"NOP\", \"NJN\": \"BKN\", \"NOK\": \"NOP\", \"SEA\": \"OKC\", \"VAN\": \"MEM\"}\n",
    "def rename_teams(old_name, dict):\n",
    "    if old_name in name_dict.keys():\n",
    "        return name_dict[old_name]\n",
    "    else:\n",
    "        return old_name\n",
    "\n",
    "playerdf.TEAM = playerdf.TEAM.apply(lambda x: rename_teams(x, name_dict))\n",
    "\n",
    "# NBA statistics df\n",
    "teamAdvdf = pd.read_csv(\"./data/teamadvancedStats.csv\").set_index([\"TEAM\", \"Season\"])\n",
    "teamOppdf = pd.read_csv(\"./data/teamOpponentStats.csv\").set_index([\"TEAM\", \"Season\"])\n",
    "teamTraddf = pd.read_csv(\"./data/teamTradStats.csv\").set_index([\"TEAM\", \"Season\"])\n",
    "\n",
    "# Age df\n",
    "teamAgedf = playerdf[[\"TEAM\", \"Season\", \"AGE\"]].groupby([\"Season\", \"TEAM\"]).mean()\n",
    "teamAgedf = pd.merge(teamAgedf.reset_index(), acronyms).drop(\"TEAM\", axis = 1).rename({\"Team\": \"TEAM\", \"AGE\": \"AVG_PLAYER_AGE\"}, axis = 1).set_index([\"TEAM\", \"Season\"])\n",
    "\n",
    "del playerdf"
   ]
  },
  {
   "cell_type": "code",
   "execution_count": 150,
   "metadata": {},
   "outputs": [],
   "source": [
    "# Awards variables\n",
    "teamAwardsdf = pd.read_csv(\"./data/awards.csv\").drop([\"Player\", \"Position\"], axis = 1).rename({\"Team\": \"TEAM\"}, axis = 1).sort_values([\"TEAM\", \"Season\"])\n",
    "\n",
    "teamAwardsdf[\"Season\"] = teamAwardsdf.Season.str.split(\"-\").str[0]\n",
    "teamAwardsdf.Season = pd.to_numeric(teamAwardsdf.Season)\n",
    "teamAwardsdf = teamAwardsdf[teamAwardsdf.Season.between(1996, 2022)]\n",
    "name_dict = {\"Charlotte Bobcats\":\"Charlotte Hornets\", \"LA Clippers\": \"Los Angeles Clippers\", \"New Jersey Nets\": \"Brooklyn Nets\", \"New Orleans Hornets\": \"New Orleans Pelicans\", \"New Orleans/Oklahoma City Hornets\": \"New Orleans Pelicans\", \"Seattle SuperSonics\": \"Oklahoma City Thunder\", \"Vancouver Grizzlies\": \"Memphis Grizzlies\", \"Washington Bullets\": \"Washington Wizards\", \"Dallas Mavericks)\" : \"Dallas Mavericks\", \"MIami Heat\": \"Miami Heat\", \"Seattle SuperSonic\": \"Oklahoma City Thunder\", \"Atlanta Hawks/Philadelphia 76ers\" : \"Atlanta Hawks\"}\n",
    "teamAwardsdf.TEAM = teamAwardsdf.TEAM.apply(lambda x: rename_teams(x, name_dict))\n",
    "teamAwardsdf.TEAM = pd.Categorical(teamAwardsdf.TEAM.str.strip())\n",
    "\n",
    "no_of_awards_won = teamAwardsdf.groupby([\"TEAM\", \"Season\"],  observed=False).count().rename({\"Award\": \"N_Awards_Won\"}, axis = 1)\n",
    "no_of_awards_won[\"awardDummy\"] = (no_of_awards_won != 0).values.flatten().astype(int)"
   ]
  },
  {
   "cell_type": "code",
   "execution_count": 151,
   "metadata": {},
   "outputs": [],
   "source": [
    "# Coach df\n",
    "coaches = pd.read_csv(\"./data/coachdf.csv\").iloc[:,1:]\n",
    "\n",
    "name_dict = {\"CHH\":\"CHA\", \"NOH\": \"NOP\", \"NJN\": \"BKN\", \"NOK\": \"NOP\", \"SEA\": \"OKC\", \"VAN\": \"MEM\", \"PHO\": \"PHX\", \"WSB\": \"WAS\", \"BRK\": \"BKN\", \"CHO\": \"CHA\"}\n",
    "coaches.TEAM = coaches.TEAM.apply(lambda x: rename_teams(x, name_dict))\n",
    "coaches = pd.merge(coaches, acronyms, on = \"TEAM\").drop(\"TEAM\", axis = 1).rename({\"Team\": \"TEAM\"}, axis = 1).set_index([\"TEAM\", \"Season\"])\n",
    "\n",
    "coachMaxGamesdf = coaches.reset_index().groupby([\"TEAM\", \"Season\"])[\"RS_G_Current\"].max().reset_index()\n",
    "coaches = pd.merge(coaches, coachMaxGamesdf, on = [\"TEAM\", \"Season\", \"RS_G_Current\"]).set_index([\"TEAM\", \"Season\"])\n",
    "\n",
    "coaches[\"Perc_Seasons_TEAM\"] = coaches.N_Seasons_TEAM/coaches.N_Seasons_Overall\n",
    "\n",
    "coaches = coaches[[\"Coach\", \"Perc_Seasons_TEAM\", \"N_Seasons_Overall\", \"RS_W_Perc_Overall\", \"P_W_Perc\"]]\n",
    "coaches = coaches.rename({i: f\"Coach_{i}\" for i in coaches.columns[1:]}, axis = 1)"
   ]
  },
  {
   "cell_type": "code",
   "execution_count": 152,
   "metadata": {},
   "outputs": [],
   "source": [
    "# Join the NBA statistics df\n",
    "variables_of_interest = [\"W\", \"FGA\",  \"3PA\", \"FGM\", \"AST\", \"TOV\", \"STL\", \"PF\", \"PFD\", \"OPP_FGA\", \"OPP_3PA\", \"OPP_FGM\", \"OPP_AST\", \"OPP_TOV\", \"OPP_STL\"]\n",
    "\n",
    "advCols = teamAdvdf.columns.difference(teamTraddf.columns)\n",
    "finaldf = teamTraddf.join(teamAdvdf[advCols])\n",
    "oppCols = teamOppdf.columns.difference(finaldf.columns)\n",
    "\n",
    "finaldf = finaldf.join(teamOppdf[oppCols])\n",
    "finaldf.columns = finaldf.columns.str.replace(\"\\n\", \"_\")\n",
    "finaldf = finaldf[variables_of_interest].reset_index()\n",
    "\n",
    "name_dict = {\"Charlotte Bobcats\":\"Charlotte Hornets\", \"LA Clippers\": \"Los Angeles Clippers\", \"New Jersey Nets\": \"Brooklyn Nets\", \"New Orleans Hornets\": \"New Orleans Pelicans\", \"New Orleans/Oklahoma City Hornets\": \"New Orleans Pelicans\", \"Seattle SuperSonics\": \"Oklahoma City Thunder\", \"Vancouver Grizzlies\": \"Memphis Grizzlies\", \"Washington Bullets\": \"Washington Wizards\"}\n",
    "finaldf.TEAM = finaldf.TEAM.apply(lambda x: rename_teams(x, name_dict))\n",
    "\n",
    "finaldf.TEAM = pd.Categorical(finaldf.TEAM)\n",
    "finaldf.Season = pd.to_numeric(finaldf.Season)\n",
    "finaldf = finaldf[finaldf.Season < 2023]\n",
    "finaldf = finaldf.set_index([\"TEAM\", \"Season\"]).sort_index()\n",
    "\n",
    "finaldf = finaldf.join(teamAgedf)\n",
    "finaldf = finaldf.join(no_of_awards_won)\n",
    "finaldf = finaldf.join(coaches)\n",
    "\n",
    "# finaldf.POSS = pd.to_numeric(finaldf.POSS.str.replace(\",\", \"\"), errors = \"coerce\")\n",
    "finaldf[\"2PA\"] = finaldf.FGA - finaldf[\"3PA\"]\n",
    "finaldf[\"OPP_2PA\"] = finaldf.OPP_FGA - finaldf[\"OPP_3PA\"]"
   ]
  },
  {
   "cell_type": "markdown",
   "metadata": {},
   "source": [
    "Dependent: W\n",
    "\n",
    "Playstyle:\n",
    "* 3PA/FGA\n",
    "* 2PA/FGA\n",
    "* AST/FGM\n",
    "* STL/OPP_TOV\n",
    "* PF - PFD\n",
    "\n",
    "Controls:\n",
    "* OPP_3PA/OPP_FGA\n",
    "* OPP_2PA/OPP_FGA\n",
    "* OPP_AST/AST_FGM\n",
    "* OPP_STL/TOV\n",
    "* AVG_PLAYER_AGE\n",
    "* L(N_Awards_Won)\n",
    "* Coach\n",
    "* Coach_N_Seasons_TEAM/Coach_N_Seasons_Overall\n",
    "* Coach_N_Seasons_Overall\n",
    "* L(RS_W_Perc_Overall)\n",
    "* L(P_W_Perc)"
   ]
  },
  {
   "cell_type": "code",
   "execution_count": 153,
   "metadata": {},
   "outputs": [],
   "source": [
    "finaldf[\"Perc_3PA\"] = finaldf[\"3PA\"]/finaldf.FGA\n",
    "finaldf[\"Perc_2PA\"] = finaldf[\"2PA\"]/finaldf.FGA\n",
    "finaldf[\"Perc_AST\"] = finaldf[\"AST\"]/finaldf.FGM\n",
    "finaldf[\"Perc_STL\"] = finaldf[\"STL\"]/finaldf.OPP_TOV\n",
    "finaldf[\"PFminusPFD\"] = finaldf[\"PF\"] - finaldf[\"PFD\"]\n",
    "\n",
    "finaldf[\"OPP_Perc_3PA\"] = finaldf.OPP_3PA/finaldf.OPP_FGA\n",
    "finaldf[\"OPP_Perc_2PA\"] = finaldf[\"OPP_2PA\"]/finaldf.OPP_FGA\n",
    "finaldf[\"OPP_Perc_AST\"] = finaldf[\"OPP_AST\"]/finaldf.OPP_FGM\n",
    "finaldf[\"OPP_Perc_STL\"] = finaldf[\"OPP_STL\"]/finaldf.TOV\n",
    "\n",
    "finaldf[\"L1_N_Awards_Won\"] = finaldf.groupby(\"TEAM\", observed = False)[\"N_Awards_Won\"].shift()\n",
    "finaldf[\"L1_Coach_RS_W_Perc_Overall\"] = finaldf.groupby(\"TEAM\", observed = False)[\"Coach_RS_W_Perc_Overall\"].shift()\n",
    "finaldf[\"L1_Coach_P_W_Perc\"] = finaldf.groupby(\"TEAM\", observed = False)[\"Coach_P_W_Perc\"].shift()"
   ]
  },
  {
   "cell_type": "code",
   "execution_count": 154,
   "metadata": {},
   "outputs": [],
   "source": [
    "finaldf = finaldf[[\"W\", \"Perc_3PA\", \"Perc_2PA\", \"Perc_AST\", \"Perc_STL\", \"PFminusPFD\", \"OPP_Perc_3PA\", \"OPP_Perc_2PA\", \"OPP_Perc_AST\", \"OPP_Perc_STL\", \"L1_N_Awards_Won\", \"L1_Coach_RS_W_Perc_Overall\", \"L1_Coach_P_W_Perc\", \"AVG_PLAYER_AGE\", \"Coach\", \"Coach_N_Seasons_Overall\", \"Coach_Perc_Seasons_TEAM\"]]\n",
    "finaldf.to_csv(\"./data/finaldf.csv\")"
   ]
  },
  {
   "cell_type": "code",
   "execution_count": 155,
   "metadata": {},
   "outputs": [
    {
     "ename": "ValueError",
     "evalue": "exog does not have full column rank. If you wish to proceed with model estimation irrespective of the numerical accuracy of coefficient estimates, you can set check_rank=False.",
     "output_type": "error",
     "traceback": [
      "\u001b[1;31m---------------------------------------------------------------------------\u001b[0m",
      "\u001b[1;31mValueError\u001b[0m                                Traceback (most recent call last)",
      "Cell \u001b[1;32mIn[155], line 3\u001b[0m\n\u001b[0;32m      1\u001b[0m \u001b[38;5;28;01mimport\u001b[39;00m \u001b[38;5;21;01mlinearmodels\u001b[39;00m \u001b[38;5;28;01mas\u001b[39;00m \u001b[38;5;21;01mlm\u001b[39;00m\n\u001b[1;32m----> 3\u001b[0m lm\u001b[38;5;241m.\u001b[39mPanelOLS(finaldf\u001b[38;5;241m.\u001b[39mdropna()[\u001b[38;5;124m\"\u001b[39m\u001b[38;5;124mW\u001b[39m\u001b[38;5;124m\"\u001b[39m], finaldf\u001b[38;5;241m.\u001b[39mdropna()\u001b[38;5;241m.\u001b[39mdrop([\u001b[38;5;124m\"\u001b[39m\u001b[38;5;124mW\u001b[39m\u001b[38;5;124m\"\u001b[39m], axis \u001b[38;5;241m=\u001b[39m \u001b[38;5;241m1\u001b[39m))\u001b[38;5;241m.\u001b[39mfit()\n",
      "File \u001b[1;32mc:\\Users\\bhara\\miniconda3\\envs\\py311\\Lib\\site-packages\\linearmodels\\panel\\model.py:1214\u001b[0m, in \u001b[0;36mPanelOLS.__init__\u001b[1;34m(self, dependent, exog, weights, entity_effects, time_effects, other_effects, singletons, drop_absorbed, check_rank)\u001b[0m\n\u001b[0;32m   1201\u001b[0m \u001b[38;5;28;01mdef\u001b[39;00m \u001b[38;5;21m__init__\u001b[39m(\n\u001b[0;32m   1202\u001b[0m     \u001b[38;5;28mself\u001b[39m,\n\u001b[0;32m   1203\u001b[0m     dependent: PanelDataLike,\n\u001b[1;32m   (...)\u001b[0m\n\u001b[0;32m   1212\u001b[0m     check_rank: \u001b[38;5;28mbool\u001b[39m \u001b[38;5;241m=\u001b[39m \u001b[38;5;28;01mTrue\u001b[39;00m,\n\u001b[0;32m   1213\u001b[0m ) \u001b[38;5;241m-\u001b[39m\u001b[38;5;241m>\u001b[39m \u001b[38;5;28;01mNone\u001b[39;00m:\n\u001b[1;32m-> 1214\u001b[0m     \u001b[38;5;28msuper\u001b[39m()\u001b[38;5;241m.\u001b[39m\u001b[38;5;21m__init__\u001b[39m(dependent, exog, weights\u001b[38;5;241m=\u001b[39mweights, check_rank\u001b[38;5;241m=\u001b[39mcheck_rank)\n\u001b[0;32m   1216\u001b[0m     \u001b[38;5;28mself\u001b[39m\u001b[38;5;241m.\u001b[39m_entity_effects \u001b[38;5;241m=\u001b[39m entity_effects\n\u001b[0;32m   1217\u001b[0m     \u001b[38;5;28mself\u001b[39m\u001b[38;5;241m.\u001b[39m_time_effects \u001b[38;5;241m=\u001b[39m time_effects\n",
      "File \u001b[1;32mc:\\Users\\bhara\\miniconda3\\envs\\py311\\Lib\\site-packages\\linearmodels\\panel\\model.py:328\u001b[0m, in \u001b[0;36m_PanelModelBase.__init__\u001b[1;34m(self, dependent, exog, weights, check_rank)\u001b[0m\n\u001b[0;32m    326\u001b[0m \u001b[38;5;28mself\u001b[39m\u001b[38;5;241m.\u001b[39m_constant_index: \u001b[38;5;28mint\u001b[39m \u001b[38;5;241m|\u001b[39m \u001b[38;5;28;01mNone\u001b[39;00m \u001b[38;5;241m=\u001b[39m \u001b[38;5;28;01mNone\u001b[39;00m\n\u001b[0;32m    327\u001b[0m \u001b[38;5;28mself\u001b[39m\u001b[38;5;241m.\u001b[39m_check_rank \u001b[38;5;241m=\u001b[39m \u001b[38;5;28mbool\u001b[39m(check_rank)\n\u001b[1;32m--> 328\u001b[0m \u001b[38;5;28mself\u001b[39m\u001b[38;5;241m.\u001b[39m_validate_data()\n\u001b[0;32m    329\u001b[0m \u001b[38;5;28mself\u001b[39m\u001b[38;5;241m.\u001b[39m_singleton_index: BoolArray \u001b[38;5;241m|\u001b[39m \u001b[38;5;28;01mNone\u001b[39;00m \u001b[38;5;241m=\u001b[39m \u001b[38;5;28;01mNone\u001b[39;00m\n",
      "File \u001b[1;32mc:\\Users\\bhara\\miniconda3\\envs\\py311\\Lib\\site-packages\\linearmodels\\panel\\model.py:479\u001b[0m, in \u001b[0;36m_PanelModelBase._validate_data\u001b[1;34m(self)\u001b[0m\n\u001b[0;32m    477\u001b[0m w_df \u001b[38;5;241m=\u001b[39m w_df \u001b[38;5;241m/\u001b[39m w_df\u001b[38;5;241m.\u001b[39mmean()\n\u001b[0;32m    478\u001b[0m \u001b[38;5;28mself\u001b[39m\u001b[38;5;241m.\u001b[39mweights \u001b[38;5;241m=\u001b[39m PanelData(w_df)\n\u001b[1;32m--> 479\u001b[0m rank_of_x \u001b[38;5;241m=\u001b[39m \u001b[38;5;28mself\u001b[39m\u001b[38;5;241m.\u001b[39m_check_exog_rank()\n\u001b[0;32m    480\u001b[0m \u001b[38;5;28mself\u001b[39m\u001b[38;5;241m.\u001b[39m_constant, \u001b[38;5;28mself\u001b[39m\u001b[38;5;241m.\u001b[39m_constant_index \u001b[38;5;241m=\u001b[39m has_constant(x, rank_of_x)\n",
      "File \u001b[1;32mc:\\Users\\bhara\\miniconda3\\envs\\py311\\Lib\\site-packages\\linearmodels\\panel\\model.py:434\u001b[0m, in \u001b[0;36m_PanelModelBase._check_exog_rank\u001b[1;34m(self)\u001b[0m\n\u001b[0;32m    432\u001b[0m _, _, rank_of_x, _ \u001b[38;5;241m=\u001b[39m _lstsq(x, np\u001b[38;5;241m.\u001b[39mones(x\u001b[38;5;241m.\u001b[39mshape[\u001b[38;5;241m0\u001b[39m]))\n\u001b[0;32m    433\u001b[0m \u001b[38;5;28;01mif\u001b[39;00m rank_of_x \u001b[38;5;241m<\u001b[39m x\u001b[38;5;241m.\u001b[39mshape[\u001b[38;5;241m1\u001b[39m]:\n\u001b[1;32m--> 434\u001b[0m     \u001b[38;5;28;01mraise\u001b[39;00m \u001b[38;5;167;01mValueError\u001b[39;00m(\n\u001b[0;32m    435\u001b[0m         \u001b[38;5;124m\"\u001b[39m\u001b[38;5;124mexog does not have full column rank. If you wish to proceed with \u001b[39m\u001b[38;5;124m\"\u001b[39m\n\u001b[0;32m    436\u001b[0m         \u001b[38;5;124m\"\u001b[39m\u001b[38;5;124mmodel estimation irrespective of the numerical accuracy of \u001b[39m\u001b[38;5;124m\"\u001b[39m\n\u001b[0;32m    437\u001b[0m         \u001b[38;5;124m\"\u001b[39m\u001b[38;5;124mcoefficient estimates, you can set check_rank=False.\u001b[39m\u001b[38;5;124m\"\u001b[39m\n\u001b[0;32m    438\u001b[0m     )\n\u001b[0;32m    439\u001b[0m \u001b[38;5;28;01mreturn\u001b[39;00m rank_of_x\n",
      "\u001b[1;31mValueError\u001b[0m: exog does not have full column rank. If you wish to proceed with model estimation irrespective of the numerical accuracy of coefficient estimates, you can set check_rank=False."
     ]
    }
   ],
   "source": [
    "import linearmodels as lm\n",
    "\n",
    "lm.PanelOLS(finaldf.dropna()[\"W\"], finaldf.dropna().drop([\"W\"], axis = 1)).fit()"
   ]
  }
 ],
 "metadata": {
  "kernelspec": {
   "display_name": "py311",
   "language": "python",
   "name": "python3"
  },
  "language_info": {
   "codemirror_mode": {
    "name": "ipython",
    "version": 3
   },
   "file_extension": ".py",
   "mimetype": "text/x-python",
   "name": "python",
   "nbconvert_exporter": "python",
   "pygments_lexer": "ipython3",
   "version": "3.11.5"
  }
 },
 "nbformat": 4,
 "nbformat_minor": 2
}
