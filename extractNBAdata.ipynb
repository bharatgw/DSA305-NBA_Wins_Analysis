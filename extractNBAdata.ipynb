{
 "cells": [
  {
   "cell_type": "code",
   "execution_count": 25,
   "metadata": {},
   "outputs": [],
   "source": [
    "import pandas as pd\n",
    "import time\n",
    "import tqdm\n",
    "from selenium import webdriver\n",
    "from selenium.webdriver.common.by import By\n",
    "from selenium.webdriver.support.ui import Select"
   ]
  },
  {
   "cell_type": "markdown",
   "metadata": {},
   "source": [
    "# Player data"
   ]
  },
  {
   "cell_type": "code",
   "execution_count": null,
   "metadata": {},
   "outputs": [],
   "source": [
    "driverService = webdriver.EdgeService(\"C:\\Windows\\System32\\msedgedriver.exe\")\n",
    "driver = webdriver.Edge(service = driverService)"
   ]
  },
  {
   "cell_type": "code",
   "execution_count": 95,
   "metadata": {},
   "outputs": [],
   "source": [
    "driver.get(url=\"https://www.nba.com/stats/players/traditional?PerMode=PerGame&sort=PTS&dir=-1\")"
   ]
  },
  {
   "cell_type": "code",
   "execution_count": 112,
   "metadata": {},
   "outputs": [],
   "source": [
    "glossaryButton = driver.find_elements(By.CLASS_NAME, \"Crom_base__f0niE\")[0].find_element(By.TAG_NAME, \"button\")\n",
    "glossaryButton.click()\n",
    "\n",
    "acronyms = driver.find_elements(By.CLASS_NAME, \"StatsTableGlossary_dt__GPooh\")\n",
    "acronyms = [a.text for a in acronyms]\n",
    "definitions = driver.find_elements(By.CLASS_NAME, \"StatsTableGlossary_dd__zcr38\")\n",
    "definitions = [d.text for d in definitions]\n",
    "\n",
    "glossary = pd.DataFrame({\"Type\": \"Player\", \"Variable\": acronyms, \"Definition\": definitions})"
   ]
  },
  {
   "cell_type": "code",
   "execution_count": 482,
   "metadata": {},
   "outputs": [],
   "source": [
    "def readTable(tableObj):\n",
    "    rows = tableObj.find_elements(By.TAG_NAME, \"tr\")\n",
    "\n",
    "    colNames = [i.text for i in rows[0].find_elements(By.TAG_NAME, \"th\") if len(i.text.strip()) > 0]\n",
    "    rows = rows[1:]\n",
    "\n",
    "    tableData = [[cell.text for cell in row.find_elements(By.TAG_NAME, \"td\")[1:] if len(cell.text) > 0] for row in tqdm.tqdm(rows)]\n",
    "\n",
    "    table = pd.DataFrame(tableData, columns=colNames)\n",
    "\n",
    "    return table"
   ]
  },
  {
   "cell_type": "code",
   "execution_count": null,
   "metadata": {},
   "outputs": [],
   "source": [
    "season_select_dd = Select(driver.find_elements(By.CLASS_NAME, \"DropDown_select__4pIg9\")[0])\n",
    "seasons = [option.text for option in season_select_dd.options]\n",
    "\n",
    "season_tables = []\n",
    "for season in seasons:\n",
    "    season_select_dd.select_by_visible_text(season)\n",
    "\n",
    "    time.sleep(10)\n",
    "    page_select_dd = driver.find_elements(By.CLASS_NAME, \"DropDown_select__4pIg9\")[-1]\n",
    "\n",
    "    page_select_dd = Select(page_select_dd)\n",
    "    page_select_dd.select_by_index(0)\n",
    "\n",
    "    player_table = driver.find_element(By.CLASS_NAME, \"Crom_table__p1iZz\")\n",
    "\n",
    "    time.sleep(10)\n",
    "    \n",
    "    player_table = readTable(player_table)\n",
    "    season_tables.append(player_table)"
   ]
  },
  {
   "cell_type": "code",
   "execution_count": 372,
   "metadata": {},
   "outputs": [],
   "source": [
    "def create_season_column(df, season):\n",
    "    df[\"Season\"] = season\n",
    "    return df"
   ]
  },
  {
   "cell_type": "code",
   "execution_count": 93,
   "metadata": {},
   "outputs": [],
   "source": [
    "seasons = [i for i in range(2016, 2024)]\n",
    "\n",
    "playerdf = pd.concat([create_season_column(df, season).iloc[:,1:] for df, season in zip(season_tables, seasons)])\n",
    "playerdf.to_csv(\"./data/playerTradStats.csv\", index = False)"
   ]
  },
  {
   "cell_type": "code",
   "execution_count": 126,
   "metadata": {},
   "outputs": [],
   "source": [
    "driver.close()"
   ]
  },
  {
   "cell_type": "markdown",
   "metadata": {},
   "source": [
    "# Team Data"
   ]
  },
  {
   "cell_type": "code",
   "execution_count": 368,
   "metadata": {},
   "outputs": [],
   "source": [
    "driverService = webdriver.EdgeService(\"C:\\Windows\\System32\\msedgedriver.exe\")\n",
    "driver = webdriver.Edge(service = driverService)\n",
    "\n",
    "driver.get(url=\"https://www.nba.com/stats/teams/traditional?PerMode=Totals\")"
   ]
  },
  {
   "cell_type": "code",
   "execution_count": 457,
   "metadata": {},
   "outputs": [],
   "source": [
    "def typeButtonClick():\n",
    "    typeButton = driver.find_elements(By.CLASS_NAME, \"StatsQuickNavSelector_nav__JzoME\")[2].find_element(By.TAG_NAME, \"button\")\n",
    "    typeButton.click()\n",
    "    time.sleep(1)\n",
    "\n",
    "def retTypeList(closeMenu = True):\n",
    "    typeButtonClick()\n",
    "    typeList = driver.find_elements(By.CLASS_NAME, \"StatsQuickNavSelector_list__nb3l1\")[2]\n",
    "    typeList = typeList.find_elements(By.TAG_NAME, \"li\")\n",
    "    if closeMenu:\n",
    "        typeButtonClick()\n",
    "    return typeList\n",
    "\n",
    "def pickType(typeIndex):\n",
    "    typeList = retTypeList(closeMenu = False)\n",
    "    typeList[typeIndex].click()\n",
    "    time.sleep(4)"
   ]
  },
  {
   "cell_type": "code",
   "execution_count": 446,
   "metadata": {},
   "outputs": [],
   "source": [
    "typeList = retTypeList(closeMenu = False)\n",
    "typeNames = [t.text for t in typeList]\n",
    "typeButtonClick()"
   ]
  },
  {
   "cell_type": "code",
   "execution_count": 483,
   "metadata": {},
   "outputs": [
    {
     "name": "stderr",
     "output_type": "stream",
     "text": [
      "100%|██████████| 30/30 [00:09<00:00,  3.10it/s]\n",
      "100%|██████████| 30/30 [00:11<00:00,  2.63it/s]\n",
      "100%|██████████| 30/30 [00:12<00:00,  2.39it/s]\n",
      "100%|██████████| 30/30 [00:09<00:00,  3.20it/s]\n",
      "100%|██████████| 30/30 [00:10<00:00,  2.99it/s]\n",
      "100%|██████████| 30/30 [00:09<00:00,  3.08it/s]\n",
      "100%|██████████| 30/30 [00:09<00:00,  3.20it/s]\n",
      "100%|██████████| 30/30 [00:09<00:00,  3.15it/s]\n",
      "100%|██████████| 30/30 [00:09<00:00,  3.11it/s]\n",
      "100%|██████████| 30/30 [00:09<00:00,  3.11it/s]\n",
      "100%|██████████| 30/30 [00:09<00:00,  3.11it/s]\n",
      "100%|██████████| 30/30 [00:09<00:00,  3.19it/s]\n",
      "100%|██████████| 30/30 [00:09<00:00,  3.18it/s]\n",
      "100%|██████████| 30/30 [00:13<00:00,  2.26it/s]\n",
      "100%|██████████| 30/30 [00:08<00:00,  3.41it/s]\n",
      "100%|██████████| 30/30 [00:09<00:00,  3.11it/s]\n",
      "100%|██████████| 30/30 [00:08<00:00,  3.33it/s]\n",
      "100%|██████████| 30/30 [00:09<00:00,  3.30it/s]\n",
      "100%|██████████| 30/30 [00:10<00:00,  2.89it/s]\n",
      "100%|██████████| 30/30 [00:09<00:00,  3.06it/s]\n",
      "100%|██████████| 29/29 [00:08<00:00,  3.29it/s]\n",
      "100%|██████████| 29/29 [00:08<00:00,  3.24it/s]\n",
      "100%|██████████| 29/29 [00:09<00:00,  2.97it/s]\n",
      "100%|██████████| 29/29 [00:12<00:00,  2.38it/s]\n",
      "100%|██████████| 29/29 [00:08<00:00,  3.29it/s]\n",
      "100%|██████████| 29/29 [00:08<00:00,  3.35it/s]\n",
      "100%|██████████| 29/29 [00:12<00:00,  2.37it/s]\n",
      "100%|██████████| 29/29 [00:09<00:00,  2.97it/s]\n",
      "100%|██████████| 30/30 [00:08<00:00,  3.36it/s]\n",
      "100%|██████████| 30/30 [00:09<00:00,  3.19it/s]\n",
      "100%|██████████| 30/30 [00:11<00:00,  2.56it/s]\n",
      "100%|██████████| 30/30 [00:10<00:00,  2.98it/s]\n",
      "100%|██████████| 30/30 [00:08<00:00,  3.46it/s]\n",
      "100%|██████████| 30/30 [00:10<00:00,  2.91it/s]\n",
      "100%|██████████| 30/30 [00:10<00:00,  2.89it/s]\n",
      "100%|██████████| 30/30 [00:09<00:00,  3.31it/s]\n",
      "100%|██████████| 30/30 [00:09<00:00,  3.25it/s]\n",
      "100%|██████████| 30/30 [00:08<00:00,  3.49it/s]\n",
      "100%|██████████| 30/30 [00:08<00:00,  3.56it/s]\n",
      "100%|██████████| 30/30 [00:09<00:00,  3.26it/s]\n",
      "100%|██████████| 30/30 [00:08<00:00,  3.53it/s]\n",
      "100%|██████████| 30/30 [00:08<00:00,  3.73it/s]\n",
      "100%|██████████| 30/30 [00:08<00:00,  3.57it/s]\n",
      "100%|██████████| 30/30 [00:09<00:00,  3.11it/s]\n",
      "100%|██████████| 30/30 [00:08<00:00,  3.39it/s]\n",
      "100%|██████████| 30/30 [00:09<00:00,  3.21it/s]\n",
      "100%|██████████| 30/30 [00:11<00:00,  2.60it/s]\n",
      "100%|██████████| 30/30 [00:12<00:00,  2.31it/s]\n",
      "100%|██████████| 29/29 [00:11<00:00,  2.44it/s]\n",
      "100%|██████████| 29/29 [00:12<00:00,  2.37it/s]\n",
      "100%|██████████| 29/29 [00:10<00:00,  2.71it/s]\n",
      "100%|██████████| 29/29 [00:08<00:00,  3.42it/s]\n",
      "100%|██████████| 29/29 [00:11<00:00,  2.42it/s]\n",
      "100%|██████████| 29/29 [00:09<00:00,  3.10it/s]\n",
      "100%|██████████| 29/29 [00:10<00:00,  2.89it/s]\n",
      "100%|██████████| 29/29 [00:08<00:00,  3.50it/s]\n",
      "100%|██████████| 30/30 [00:14<00:00,  2.02it/s]\n",
      "100%|██████████| 30/30 [00:13<00:00,  2.23it/s]\n",
      "100%|██████████| 30/30 [00:16<00:00,  1.79it/s]\n",
      "100%|██████████| 30/30 [00:14<00:00,  2.02it/s]\n",
      "100%|██████████| 30/30 [00:13<00:00,  2.27it/s]\n",
      "100%|██████████| 30/30 [00:14<00:00,  2.06it/s]\n",
      "100%|██████████| 30/30 [00:19<00:00,  1.58it/s]\n",
      "100%|██████████| 30/30 [00:18<00:00,  1.61it/s]\n",
      "100%|██████████| 30/30 [00:16<00:00,  1.87it/s]\n",
      "100%|██████████| 30/30 [00:20<00:00,  1.47it/s]\n",
      "100%|██████████| 30/30 [00:19<00:00,  1.54it/s]\n",
      "100%|██████████| 30/30 [00:14<00:00,  2.01it/s]\n",
      "100%|██████████| 30/30 [00:14<00:00,  2.07it/s]\n",
      "100%|██████████| 30/30 [00:16<00:00,  1.82it/s]\n",
      "100%|██████████| 30/30 [00:17<00:00,  1.68it/s]\n",
      "100%|██████████| 30/30 [00:18<00:00,  1.66it/s]\n",
      "100%|██████████| 30/30 [00:17<00:00,  1.72it/s]\n",
      "100%|██████████| 30/30 [00:18<00:00,  1.64it/s]\n",
      "100%|██████████| 30/30 [00:18<00:00,  1.65it/s]\n",
      "100%|██████████| 30/30 [00:17<00:00,  1.70it/s]\n",
      "100%|██████████| 29/29 [00:16<00:00,  1.75it/s]\n",
      "100%|██████████| 29/29 [00:16<00:00,  1.72it/s]\n",
      "100%|██████████| 29/29 [00:16<00:00,  1.78it/s]\n",
      "100%|██████████| 29/29 [00:16<00:00,  1.72it/s]\n",
      "100%|██████████| 29/29 [00:12<00:00,  2.27it/s]\n",
      "100%|██████████| 29/29 [00:13<00:00,  2.10it/s]\n",
      "100%|██████████| 29/29 [00:10<00:00,  2.69it/s]\n",
      "100%|██████████| 29/29 [00:11<00:00,  2.57it/s]\n",
      "100%|██████████| 30/30 [00:14<00:00,  2.08it/s]\n",
      "100%|██████████| 30/30 [00:21<00:00,  1.36it/s]\n",
      "100%|██████████| 30/30 [00:22<00:00,  1.31it/s]\n",
      "100%|██████████| 30/30 [00:22<00:00,  1.35it/s]\n",
      "100%|██████████| 30/30 [00:23<00:00,  1.27it/s]\n",
      "100%|██████████| 30/30 [00:23<00:00,  1.27it/s]\n",
      "100%|██████████| 30/30 [00:22<00:00,  1.33it/s]\n",
      "100%|██████████| 30/30 [00:23<00:00,  1.27it/s]\n",
      "100%|██████████| 30/30 [00:22<00:00,  1.31it/s]\n",
      "100%|██████████| 30/30 [00:21<00:00,  1.39it/s]\n",
      "100%|██████████| 30/30 [00:22<00:00,  1.36it/s]\n",
      "100%|██████████| 30/30 [00:15<00:00,  1.91it/s]\n",
      "100%|██████████| 30/30 [00:15<00:00,  1.90it/s]\n",
      "100%|██████████| 30/30 [00:16<00:00,  1.80it/s]\n",
      "100%|██████████| 30/30 [00:16<00:00,  1.80it/s]\n",
      "100%|██████████| 30/30 [00:23<00:00,  1.25it/s]\n",
      "100%|██████████| 30/30 [00:17<00:00,  1.70it/s]\n",
      "100%|██████████| 30/30 [00:17<00:00,  1.75it/s]\n",
      "100%|██████████| 30/30 [00:16<00:00,  1.78it/s]\n",
      "100%|██████████| 30/30 [00:16<00:00,  1.76it/s]\n",
      "100%|██████████| 29/29 [00:16<00:00,  1.71it/s]\n",
      "100%|██████████| 29/29 [00:16<00:00,  1.72it/s]\n",
      "100%|██████████| 29/29 [00:15<00:00,  1.87it/s]\n",
      "100%|██████████| 29/29 [00:15<00:00,  1.82it/s]\n",
      "100%|██████████| 29/29 [00:22<00:00,  1.27it/s]\n",
      "100%|██████████| 29/29 [00:23<00:00,  1.24it/s]\n",
      "100%|██████████| 29/29 [00:25<00:00,  1.14it/s]\n",
      "100%|██████████| 29/29 [00:20<00:00,  1.44it/s]\n",
      "100%|██████████| 30/30 [00:11<00:00,  2.54it/s]\n",
      "100%|██████████| 30/30 [00:13<00:00,  2.21it/s]\n",
      "100%|██████████| 30/30 [00:14<00:00,  2.06it/s]\n",
      "100%|██████████| 30/30 [00:11<00:00,  2.70it/s]\n",
      "100%|██████████| 30/30 [00:13<00:00,  2.18it/s]\n",
      "100%|██████████| 30/30 [00:13<00:00,  2.19it/s]\n",
      "100%|██████████| 30/30 [00:11<00:00,  2.69it/s]\n",
      "100%|██████████| 30/30 [00:11<00:00,  2.56it/s]\n",
      "100%|██████████| 30/30 [00:12<00:00,  2.44it/s]\n",
      "100%|██████████| 30/30 [00:12<00:00,  2.48it/s]\n",
      "100%|██████████| 30/30 [00:12<00:00,  2.43it/s]\n",
      "100%|██████████| 30/30 [00:11<00:00,  2.54it/s]\n",
      "100%|██████████| 30/30 [00:11<00:00,  2.53it/s]\n",
      "100%|██████████| 30/30 [00:11<00:00,  2.51it/s]\n",
      "100%|██████████| 30/30 [00:12<00:00,  2.49it/s]\n",
      "100%|██████████| 30/30 [00:13<00:00,  2.26it/s]\n",
      "100%|██████████| 30/30 [00:13<00:00,  2.19it/s]\n",
      "100%|██████████| 30/30 [00:13<00:00,  2.26it/s]\n",
      "100%|██████████| 30/30 [00:10<00:00,  2.77it/s]\n",
      "100%|██████████| 30/30 [00:14<00:00,  2.12it/s]\n",
      "100%|██████████| 29/29 [00:12<00:00,  2.33it/s]\n",
      "100%|██████████| 29/29 [00:13<00:00,  2.14it/s]\n",
      "100%|██████████| 29/29 [00:12<00:00,  2.23it/s]\n",
      "100%|██████████| 29/29 [00:13<00:00,  2.15it/s]\n",
      "100%|██████████| 29/29 [00:12<00:00,  2.25it/s]\n",
      "100%|██████████| 29/29 [00:13<00:00,  2.18it/s]\n",
      "100%|██████████| 29/29 [00:13<00:00,  2.15it/s]\n",
      "100%|██████████| 29/29 [00:13<00:00,  2.14it/s]\n",
      "100%|██████████| 30/30 [00:13<00:00,  2.16it/s]\n",
      "100%|██████████| 30/30 [00:13<00:00,  2.19it/s]\n",
      "100%|██████████| 30/30 [00:13<00:00,  2.19it/s]\n",
      "100%|██████████| 30/30 [00:13<00:00,  2.16it/s]\n",
      "100%|██████████| 30/30 [00:13<00:00,  2.14it/s]\n",
      "100%|██████████| 30/30 [00:13<00:00,  2.23it/s]\n",
      "100%|██████████| 30/30 [00:13<00:00,  2.15it/s]\n",
      "100%|██████████| 30/30 [00:14<00:00,  2.10it/s]\n",
      "100%|██████████| 30/30 [00:14<00:00,  2.09it/s]\n",
      "100%|██████████| 30/30 [00:14<00:00,  2.11it/s]\n",
      "100%|██████████| 30/30 [00:14<00:00,  2.10it/s]\n",
      "100%|██████████| 30/30 [00:13<00:00,  2.17it/s]\n",
      "100%|██████████| 30/30 [00:13<00:00,  2.17it/s]\n",
      "100%|██████████| 30/30 [00:14<00:00,  2.14it/s]\n",
      "100%|██████████| 30/30 [00:13<00:00,  2.24it/s]\n",
      "100%|██████████| 30/30 [00:13<00:00,  2.20it/s]\n",
      "100%|██████████| 30/30 [00:13<00:00,  2.20it/s]\n",
      "100%|██████████| 30/30 [00:11<00:00,  2.56it/s]\n",
      "100%|██████████| 30/30 [00:14<00:00,  2.13it/s]\n",
      "100%|██████████| 30/30 [00:13<00:00,  2.21it/s]\n",
      "100%|██████████| 29/29 [00:13<00:00,  2.14it/s]\n",
      "100%|██████████| 29/29 [00:12<00:00,  2.32it/s]\n",
      "100%|██████████| 29/29 [00:13<00:00,  2.13it/s]\n",
      "100%|██████████| 29/29 [00:13<00:00,  2.08it/s]\n",
      "100%|██████████| 29/29 [00:13<00:00,  2.09it/s]\n",
      "100%|██████████| 29/29 [00:11<00:00,  2.56it/s]\n",
      "100%|██████████| 29/29 [00:12<00:00,  2.40it/s]\n",
      "100%|██████████| 29/29 [00:11<00:00,  2.55it/s]\n"
     ]
    }
   ],
   "source": [
    "season_select_dd = Select(driver.find_elements(By.CLASS_NAME, \"DropDown_select__4pIg9\")[0])\n",
    "seasons = [option.text for option in season_select_dd.options]\n",
    "\n",
    "allTables = {}\n",
    "for i, typeName in enumerate(typeNames[2:]):\n",
    "\n",
    "    pickType(i+2)\n",
    "\n",
    "    season_tables = {}\n",
    "    for season in seasons:\n",
    "        season_select_dd = Select(driver.find_elements(By.CLASS_NAME, \"DropDown_select__4pIg9\")[0])\n",
    "        season_select_dd.select_by_visible_text(season)\n",
    "\n",
    "        time.sleep(10)\n",
    "\n",
    "        player_table = driver.find_element(By.CLASS_NAME, \"Crom_table__p1iZz\")\n",
    "        \n",
    "        player_table = readTable(player_table)\n",
    "        season_tables[season] = (player_table)\n",
    "\n",
    "    allTables[typeName] = season_tables"
   ]
  },
  {
   "cell_type": "code",
   "execution_count": 514,
   "metadata": {},
   "outputs": [],
   "source": [
    "def create_season_column(df, season):\n",
    "    df[\"Season\"] = season.split(\"-\")[0]\n",
    "    return df\n",
    "\n",
    "advanceddf = pd.concat([create_season_column(df, season).iloc[:,1:] for season, df in allTables[\"Advanced\"].items()])\n",
    "advanceddf.to_csv(\"./data/teamAdvStats.csv\", index = False)"
   ]
  },
  {
   "cell_type": "code",
   "execution_count": 516,
   "metadata": {},
   "outputs": [],
   "source": [
    "for typeName in typeNames[2:]:\n",
    "    teamdf = pd.concat([create_season_column(df, season) for season, df in allTables[typeName].items()])\n",
    "    teamdf.to_csv(f\"./data/team{typeName}Stats.csv\", index = False)\n",
    "driver.close()"
   ]
  },
  {
   "cell_type": "markdown",
   "metadata": {},
   "source": [
    "# All player team awards"
   ]
  },
  {
   "cell_type": "code",
   "execution_count": 1,
   "metadata": {},
   "outputs": [],
   "source": [
    "import requests\n",
    "import bs4\n",
    "import re"
   ]
  },
  {
   "cell_type": "code",
   "execution_count": 2,
   "metadata": {},
   "outputs": [],
   "source": [
    "nbaAwardsPage = bs4.BeautifulSoup(requests.get(\"https://www.nba.com/news/history-all-nba-teams\").text)"
   ]
  },
  {
   "cell_type": "code",
   "execution_count": 19,
   "metadata": {},
   "outputs": [],
   "source": [
    "def isSeason(strObj):\n",
    "    return re.match(\"\\d{4}-\\d{2}\", strObj) is not None\n",
    "\n",
    "def isAwardTitle(strObj):\n",
    "    return re.match(\"[A-Z]+ TEAM\", strObj) is not None\n",
    "\n",
    "def isPlayerTeam(htmlObj):\n",
    "    isPara = False\n",
    "    containsComma = \",\" in htmlObj.text\n",
    "    if len(re.findall(\"</*p>\", htmlObj.decode())) == 2:\n",
    "        isPara = True\n",
    "\n",
    "    return  isPara and containsComma"
   ]
  },
  {
   "cell_type": "code",
   "execution_count": 4,
   "metadata": {},
   "outputs": [],
   "source": [
    "seasons = [season for season in nbaAwardsPage.find_all(\"h3\") if isSeason(season.text)]"
   ]
  },
  {
   "cell_type": "code",
   "execution_count": 35,
   "metadata": {},
   "outputs": [],
   "source": [
    "dataDict = {}\n",
    "for season in seasons:\n",
    "    children = season.find_next_siblings()\n",
    "    seasonDict = {}\n",
    "\n",
    "    awardTitle = None\n",
    "    playerTeam = []\n",
    "\n",
    "    for child in children:\n",
    "\n",
    "        if isAwardTitle(child.text):\n",
    "            if awardTitle is not None:\n",
    "                seasonDict[awardTitle] = playerTeam\n",
    "                playerTeam = []\n",
    "            awardTitle = child.text.replace(\":\", \"\")\n",
    "        \n",
    "        if isPlayerTeam(child):\n",
    "            playerTeam.append(child.text)\n",
    "        \n",
    "        if isSeason(child.text):\n",
    "            seasonDict[awardTitle] = playerTeam\n",
    "            break\n",
    "\n",
    "        child = None\n",
    "    \n",
    "    if child is None:\n",
    "        seasonDict[awardTitle] = playerTeam\n",
    "        \n",
    "    dataDict[season.text] = seasonDict"
   ]
  },
  {
   "cell_type": "code",
   "execution_count": 80,
   "metadata": {},
   "outputs": [],
   "source": [
    "awardsdf = pd.DataFrame.from_dict(dataDict, orient = \"index\").stack().explode().str.split(\",\", expand = True)\n",
    "awardsdf[[\"Position\", 0]] = awardsdf[0].str.extract(\"(([A-Z]):){0,1}(.*)\")[[1, 2]].rename({1: \"Position\", 2: \"Player\"}, axis = 1)\n",
    "awardsdf = awardsdf.rename({0: \"Player\", 1: \"Team\"}, axis = 1)\n",
    "awardsdf[\"Player\"] = awardsdf.Player.str.strip()\n",
    "awardsdf.to_csv(\"./data/awards.csv\")"
   ]
  }
 ],
 "metadata": {
  "kernelspec": {
   "display_name": "py311",
   "language": "python",
   "name": "python3"
  },
  "language_info": {
   "codemirror_mode": {
    "name": "ipython",
    "version": 3
   },
   "file_extension": ".py",
   "mimetype": "text/x-python",
   "name": "python",
   "nbconvert_exporter": "python",
   "pygments_lexer": "ipython3",
   "version": "3.11.5"
  }
 },
 "nbformat": 4,
 "nbformat_minor": 2
}
